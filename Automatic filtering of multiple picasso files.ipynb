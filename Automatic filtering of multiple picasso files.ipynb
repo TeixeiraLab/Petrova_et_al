{
 "cells": [
  {
   "cell_type": "code",
   "execution_count": null,
   "metadata": {},
   "outputs": [],
   "source": [
    "#This code processes multiple picasso files to filter coordinates based on their parameters\n",
    "#File needed is the hdf5 file generated from picasso after the localization step"
   ]
  },
  {
   "cell_type": "code",
   "execution_count": 2,
   "metadata": {
    "id": "skSYo937aSjH"
   },
   "outputs": [],
   "source": [
    "import pandas as pd\n",
    "import numpy as np\n",
    "import h5py\n",
    "import seaborn as sns\n",
    "\n",
    "file_loc=list([f'./image{i}.hdf5' for i in range(1,2)])   \n",
    "result_loc=list([f'image_{i}' for i in range(1,2)])\n",
    "file_loc \n",
    "\n",
    "def loop_function(file_name,result_name,threshold_sx_lower,threshold_sx_upper,threshold_sy_lower,threshold_sy_upper,upper_lpx,upper_lpy):\n",
    "\n",
    "    #Reading hdf5 files from picasso\n",
    "    df_initial=pd.DataFrame(np.array(h5py.File(file_name)['locs']))\n",
    "    df_2=df_initial[[\"frame\",\"x\",\"y\",\"photons\",\"sx\",\"sy\",\"lpx\",\"lpy\",\"group\"]]\n",
    "\n",
    "    #Filtering sx and sy\n",
    "    df_filtered_sx=df_2[(df_2 ['sx'] > threshold_sx_lower) & (df_2 ['sx'] < threshold_sx_upper)]\n",
    "    df_filtered_sx_sy=df_filtered_sx[(df_filtered_sx ['sy'] > threshold_sy_lower) & (df_filtered_sx ['sy'] < threshold_sy_upper)]\n",
    "    fig_3=sns.displot(data=df_filtered_sx, x=\"sx\", kde=True)\n",
    "    fig_4=sns.displot(data=df_filtered_sx_sy, x=\"sy\", kde=True)\n",
    "    fig_3.savefig(f'./{result_name}_hist_sx.jpg')\n",
    "    fig_4.savefig(f'./{result_name}_hist_sy.jpg')\n",
    "\n",
    "    #Filtering lpx and lpy\n",
    "    df_filtered_sx_sy_lpx=df_filtered_sx_sy[(df_filtered_sx_sy ['lpx'] < upper_lpx)]\n",
    "    df_filtered_sx_sy_lpx_lpy=df_filtered_sx_sy_lpx[(df_filtered_sx_sy_lpx ['lpy'] < upper_lpy)]\n",
    "    fig_5=sns.displot(data=df_filtered_sx_sy_lpx, x=\"lpx\", kde=True)\n",
    "    fig_6=sns.displot(data=df_filtered_sx_sy_lpx_lpy, x=\"lpy\", kde=True)\n",
    "    fig_5.savefig(f'./{result_name}_hist_lpx.jpg')\n",
    "    fig_6.savefig(f'./{result_name}_hist_lpy.jpg')\n",
    "\n",
    "    #You can also add here other parameters of your choosing to filter (such as photons)\n",
    "\n",
    "    #Save output\n",
    "    df_filtered_sx_sy_lpx_lpy.to_csv(f'{result_name}_filtered.csv',index=False)\n",
    "    return 0\n",
    "\n",
    "#Loop to process multiple files\n",
    "#Values needed are as follows: threshold_sx_lower,threshold_sx_upper,threshold_sy_lower,threshold_sy_upper,upper_lpx,upper_lpy\n",
    "for i,j in zip(file_loc,result_loc):\n",
    "    loop_function(i,j,1.2,2.2,1.2,2.2,0.3,0.3)\n"
   ]
  },
  {
   "cell_type": "code",
   "execution_count": null,
   "metadata": {},
   "outputs": [],
   "source": [
    "import pandas as pd\n",
    "import numpy as np\n",
    "import h5py\n",
    "import seaborn as sns\n",
    "import matplotlib.pyplot as plt\n",
    "\n",
    "def loop_function(file_name, result_name, thresholds):\n",
    "    \"\"\"\n",
    "    Process a single file in h5py format and save filtered data and histograms.\n",
    "\n",
    "    Parameters:\n",
    "    - file_name: str, path to the HDF5 file\n",
    "    - result_name: str, name for the result files\n",
    "    - thresholds: dict, dictionary containing threshold values for filtering\n",
    "    \"\"\"\n",
    "    # Reading hdf5 files from picasso\n",
    "    df_initial = pd.DataFrame(np.array(h5py.File(file_name)['locs']))\n",
    "    df_2 = df_initial[[\"frame\", \"x\", \"y\", \"photons\", \"sx\", \"sy\", \"lpx\", \"lpy\", \"group\"]]\n",
    "\n",
    "    # Filtering based on thresholds\n",
    "    filters = (\n",
    "        (df_2['sx'].between(*thresholds['sx'])) &\n",
    "        (df_2['sy'].between(*thresholds['sy'])) &\n",
    "        (df_2['lpx'] < thresholds['upper_lpx']) &\n",
    "        (df_2['lpy'] < thresholds['upper_lpy'])\n",
    "    )\n",
    "    df_filtered = df_2[filters]\n",
    "\n",
    "    # Plotting and saving histograms\n",
    "    for col in ['sx', 'sy', 'lpx', 'lpy']:\n",
    "        fig = sns.displot(data=df_filtered, x=col, kde=True)\n",
    "        fig.savefig(f'./{result_name}_hist_{col}.jpg')\n",
    "        plt.close(fig)\n",
    "\n",
    "    # Save filtered data to CSV\n",
    "    df_filtered.to_csv(f'{result_name}_filtered.csv', index=False)\n",
    "\n",
    "# Loop to process multiple files\n",
    "# Values needed are as follows: threshold_sx_lower, threshold_sx_upper, threshold_sy_lower, threshold_sy_upper, upper_lpx, upper_lpy\n",
    "file_loc = [f'./image{i}.hdf5' for i in range(1, 2)]\n",
    "result_loc = [f'image_{i}' for i in range(1, 2)]\n",
    "threshold_values = {\n",
    "    'sx': (1.2, 2.2),\n",
    "    'sy': (1.2, 2.2),\n",
    "    'upper_lpx': 0.3,\n",
    "    'upper_lpy': 0.3\n",
    "}\n",
    "\n",
    "for file_path, result_name in zip(file_loc, result_loc):\n",
    "    loop_function(file_path, result_name, threshold_values)"
   ]
  }
 ],
 "metadata": {
  "colab": {
   "provenance": []
  },
  "kernelspec": {
   "display_name": "Python 3 (ipykernel)",
   "language": "python",
   "name": "python3"
  },
  "language_info": {
   "codemirror_mode": {
    "name": "ipython",
    "version": 3
   },
   "file_extension": ".py",
   "mimetype": "text/x-python",
   "name": "python",
   "nbconvert_exporter": "python",
   "pygments_lexer": "ipython3",
   "version": "3.9.13"
  }
 },
 "nbformat": 4,
 "nbformat_minor": 4
}
