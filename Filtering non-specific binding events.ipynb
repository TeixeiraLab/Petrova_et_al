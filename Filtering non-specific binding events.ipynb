{
 "cells": [
  {
   "cell_type": "code",
   "execution_count": 25,
   "metadata": {
    "id": "lZBzOEjJRZ1F"
   },
   "outputs": [],
   "source": [
    "#This code is to filter non-specific binding events from the data after running the neural network clustering algorithm\n",
    "#Files needed are the 'DataCalled' files in the folder 'evaluated_by_?????' and 'ClusterStars' in the folder 'ROIs_????_whole_image'"
   ]
  },
  {
   "cell_type": "code",
   "execution_count": null,
   "metadata": {},
   "outputs": [],
   "source": [
    "import pandas as pd\n",
    "import numpy as np\n",
    "import h5py\n",
    "import glob\n",
    "import seaborn as sns\n",
    "import plotly.express as px\n",
    "import matplotlib.pyplot as plt\n",
    "from sklearn import metrics\n",
    "from sklearn.datasets import make_blobs\n",
    "from sklearn.preprocessing import StandardScaler\n",
    "\n",
    "file_loc=list([f'./image_{i}_filtered_DataCalled.csv' for i in range(1,9)])   \n",
    "file_loc_2=list([f'./image_{l}_filtered_ClusterStats.csv' for l in range(1,9)])\n",
    "result_loc=list([f'image_{i}' for i in range(1,9)])\n",
    "file_loc, file_loc_2"
   ]
  },
  {
   "cell_type": "code",
   "execution_count": 34,
   "metadata": {},
   "outputs": [],
   "source": [
    "    def loop_function(file_name,file_name_2,result_name,threshold_mean_lower,threshold_mean_upper,threshold_std):\n",
    "    \n",
    "    #Function to filter non-specific binding events using the mean frame\n",
    "    def filter_func(x):\n",
    "            return  threshold_mean_lower <  x['frame'].mean() < threshold_mean_upper\n",
    "    \n",
    "    #Function to filter non-specific binding events using the std frame\n",
    "    def filter_func_2(x):\n",
    "            return  x['frame'].std() > threshold_std\n",
    "    \n",
    "    #Reading files from the cluster analysis (DataCalled and ClusterStats)\n",
    "    df_initial=pd.read_csv(file_name, delimiter=',')\n",
    "    df_initial_2=pd.read_csv(file_name_2, delimiter=',')\n",
    "    \n",
    "    #Filtering non-specific binding events using mean frame \n",
    "    df2= df_initial[[\"frame\",\"clusterID\",\"x\",\"y\"]]\n",
    "    group = df2.groupby('clusterID')\n",
    "    df3 = group.filter(filter_func)\n",
    "    df4 = df3.groupby('clusterID')\n",
    "    fig_1=sns.displot(group.mean(), x=\"frame\", kde=True) \n",
    "    fig_2=sns.displot(df4.mean(), x=\"frame\", kde=True) \n",
    "    fig_1.savefig(f'./{result_name}_Meanframe_before.jpg')\n",
    "    fig_1.savefig(f'./{result_name}_Meanframe_after.jpg')\n",
    "    \n",
    "    #Filtering non-specific binding events using std frame\n",
    "    df5 = df4.filter(filter_func_2)\n",
    "    df6=df5.groupby('clusterID')\n",
    "    fig_3=sns.displot(group.std(), x=\"frame\", kde=True) \n",
    "    fig_4=sns.displot(df6.std(), x=\"frame\", kde=True) \n",
    "    fig_3.savefig(f'./{result_name}_stdframe_before.jpg')\n",
    "    fig_4.savefig(f'./{result_name}_stdframe_after.jpg')\n",
    "    \n",
    "    #Filter receptor clusters from artifical clusters\n",
    "    df7 = df_initial_2.groupby('ClusterID')\n",
    "    list_final = list(df5['clusterID'])\n",
    "    df_ReceptorClusters_final = df_initial_2[df_initial_2['ClusterID'].isin(list_final)]\n",
    "    df_ArtificialClusters_final = df_initial_2[~df_initial_2['ClusterID'].isin(list_final)]\n",
    "    points = df_F_final['Points']\n",
    "    area = df_F_final['Area (um2)']\n",
    "    density = df_F_final['Density (pts/um2)']\n",
    "    points_median = points.median()\n",
    "    area_median = area.median()\n",
    "    density_median = density.median()\n",
    "    cluster_number = area.count()\n",
    "    data = [[area_median, density_median, points_median, cluster_number]]\n",
    "    stat = pd.DataFrame(data, columns=['Area', 'density','points','clusters'])\n",
    "    \n",
    "    #Save output\n",
    "    stat.to_csv(f'{result_name}_stat.csv', index=False)\n",
    "    df_ReceptorClusters_final.to_csv(f'{result_name}_result.csv', index=False)\n",
    "    \n",
    "    return 0\n",
    "    \n",
    "#Loop function to process multiple files\n",
    "#Values needed are for threshold_mean_lower,threshold_mean_upper,threshold_std\n",
    "for i,l,j in zip(file_loc,file_loc_2,result_loc):\n",
    "    loop_function(i,l,j,1000,9000,500)\n",
    "   \n",
    "  \n",
    "#Save all stats processed in one csv file\n",
    "csv_files = glob.glob('*_stat.{}'.format('csv'))\n",
    "df_append = pd.DataFrame()\n",
    "for file in csv_files:\n",
    "            df_temp = pd.read_csv(file)\n",
    "            df_append = df_append.append(df_temp, ignore_index=True)\n",
    "df_append.to_csv('allstats.csv')"
   ]
  },
  {
   "cell_type": "code",
   "execution_count": null,
   "metadata": {},
   "outputs": [],
   "source": []
  }
 ],
 "metadata": {
  "colab": {
   "provenance": []
  },
  "kernelspec": {
   "display_name": "Python 3 (ipykernel)",
   "language": "python",
   "name": "python3"
  },
  "language_info": {
   "codemirror_mode": {
    "name": "ipython",
    "version": 3
   },
   "file_extension": ".py",
   "mimetype": "text/x-python",
   "name": "python",
   "nbconvert_exporter": "python",
   "pygments_lexer": "ipython3",
   "version": "3.9.13"
  }
 },
 "nbformat": 4,
 "nbformat_minor": 4
}
